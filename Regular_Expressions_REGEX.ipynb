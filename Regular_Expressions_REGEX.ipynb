{
 "cells": [
  {
   "cell_type": "markdown",
   "metadata": {},
   "source": [
    "# Example 1 (Without ignorecase)"
   ]
  },
  {
   "cell_type": "code",
   "execution_count": 37,
   "metadata": {},
   "outputs": [],
   "source": [
    "#importing regular expression module\n",
    "import re"
   ]
  },
  {
   "cell_type": "code",
   "execution_count": 38,
   "metadata": {},
   "outputs": [],
   "source": [
    "#creating a regular expression\n",
    "r = re.compile('a/{1,3}b')"
   ]
  },
  {
   "cell_type": "code",
   "execution_count": 39,
   "metadata": {},
   "outputs": [
    {
     "name": "stdout",
     "output_type": "stream",
     "text": [
      "None\n"
     ]
    }
   ],
   "source": [
    "# no - match\n",
    "print(r.search('a////b'))"
   ]
  },
  {
   "cell_type": "code",
   "execution_count": 40,
   "metadata": {},
   "outputs": [
    {
     "name": "stdout",
     "output_type": "stream",
     "text": [
      "None\n"
     ]
    }
   ],
   "source": [
    "# no - match\n",
    "print(r.search('ab'))"
   ]
  },
  {
   "cell_type": "code",
   "execution_count": 36,
   "metadata": {},
   "outputs": [
    {
     "name": "stdout",
     "output_type": "stream",
     "text": [
      "a//b\n"
     ]
    }
   ],
   "source": [
    "# Match found!\n",
    "print(r.search('a//b')[0])"
   ]
  },
  {
   "cell_type": "markdown",
   "metadata": {},
   "source": [
    "# Example 2 (With ignorecase)"
   ]
  },
  {
   "cell_type": "code",
   "execution_count": 50,
   "metadata": {},
   "outputs": [],
   "source": [
    "#import regular expression module\n",
    "import re\n",
    "\n",
    "#create regular expression\n",
    "s = re.compile('a/{1,3}b', re.IGNORECASE)"
   ]
  },
  {
   "cell_type": "code",
   "execution_count": 51,
   "metadata": {},
   "outputs": [
    {
     "name": "stdout",
     "output_type": "stream",
     "text": [
      "A//b\n"
     ]
    }
   ],
   "source": [
    "# match -1\n",
    "print(s.search('A//b')[0])"
   ]
  },
  {
   "cell_type": "code",
   "execution_count": 52,
   "metadata": {},
   "outputs": [
    {
     "name": "stdout",
     "output_type": "stream",
     "text": [
      "a///B\n"
     ]
    }
   ],
   "source": [
    "# match -2\n",
    "print(s.search('a///B')[0])"
   ]
  },
  {
   "cell_type": "code",
   "execution_count": 53,
   "metadata": {},
   "outputs": [
    {
     "name": "stdout",
     "output_type": "stream",
     "text": [
      "None\n"
     ]
    }
   ],
   "source": [
    "# no match\n",
    "print(s.search('ab'))"
   ]
  },
  {
   "cell_type": "markdown",
   "metadata": {},
   "source": [
    "# Example 3 (Match function)"
   ]
  },
  {
   "cell_type": "code",
   "execution_count": 57,
   "metadata": {},
   "outputs": [],
   "source": [
    "#import regular expression module\n",
    "import re\n",
    "\n",
    "#create regular expression\n",
    "t = re.compile('[a-z]+')"
   ]
  },
  {
   "cell_type": "code",
   "execution_count": 70,
   "metadata": {},
   "outputs": [
    {
     "name": "stdout",
     "output_type": "stream",
     "text": [
      "Group : abc\n",
      "start : 0\n",
      "End : 3\n",
      "Span : (0, 3)\n"
     ]
    }
   ],
   "source": [
    "#This match function check only the beginning of the string \n",
    "#for regular expression matching\n",
    "\n",
    "# match 1\n",
    "print(\"Group :\", t.match('abc').group())\n",
    "print(\"start :\", t.match('abc').start())\n",
    "print(\"End :\", t.match('abc').end())\n",
    "print(\"Span :\", t.match('abc').span())"
   ]
  },
  {
   "cell_type": "code",
   "execution_count": 62,
   "metadata": {},
   "outputs": [
    {
     "name": "stdout",
     "output_type": "stream",
     "text": [
      "brn\n"
     ]
    }
   ],
   "source": [
    "# match 2\n",
    "print(t.match('brn')[0])"
   ]
  },
  {
   "cell_type": "code",
   "execution_count": 63,
   "metadata": {},
   "outputs": [
    {
     "name": "stdout",
     "output_type": "stream",
     "text": [
      "None\n"
     ]
    }
   ],
   "source": [
    "# No match 1\n",
    "print(t.match('1abc'))"
   ]
  },
  {
   "cell_type": "code",
   "execution_count": 64,
   "metadata": {},
   "outputs": [
    {
     "name": "stdout",
     "output_type": "stream",
     "text": [
      "None\n"
     ]
    }
   ],
   "source": [
    "# no match 2\n",
    "print(t.match(\" \"))"
   ]
  },
  {
   "cell_type": "markdown",
   "metadata": {},
   "source": [
    "# Example 4 (Search function)"
   ]
  },
  {
   "cell_type": "code",
   "execution_count": 75,
   "metadata": {},
   "outputs": [
    {
     "name": "stdout",
     "output_type": "stream",
     "text": [
      "message\n",
      "None\n"
     ]
    }
   ],
   "source": [
    "#import regex module\n",
    "import re\n",
    "u = re.compile(\"message\")\n",
    "\n",
    "#Search function searches all the substrings of the main base string\n",
    "\n",
    "#match 1\n",
    "print(u.search(' ::: message')[0])\n",
    "\n",
    "#no match\n",
    "print(u.search('mess mesge'))"
   ]
  },
  {
   "cell_type": "markdown",
   "metadata": {},
   "source": [
    "# Example 5 (Findall function)"
   ]
  },
  {
   "cell_type": "code",
   "execution_count": 78,
   "metadata": {},
   "outputs": [
    {
     "data": {
      "text/plain": [
       "['12', '11', '10']"
      ]
     },
     "execution_count": 78,
     "metadata": {},
     "output_type": "execute_result"
    }
   ],
   "source": [
    "import re\n",
    "p = re.compile(r'\\d+')\n",
    "\n",
    "#return a list of all findings\n",
    "p.findall('12 drummers drumming, 11 pipers piping, 10 lords a leaping')"
   ]
  },
  {
   "cell_type": "markdown",
   "metadata": {},
   "source": [
    "# Example 6 (Finditer function)"
   ]
  },
  {
   "cell_type": "code",
   "execution_count": 89,
   "metadata": {},
   "outputs": [
    {
     "name": "stdout",
     "output_type": "stream",
     "text": [
      "Start : 0\n",
      "Group : 12\n",
      "End : 2\n",
      "span : (0, 2)\n",
      "Match : 12\n",
      "=======\n",
      "Start : 22\n",
      "Group : 11\n",
      "End : 24\n",
      "span : (22, 24)\n",
      "Match : 11\n",
      "=======\n",
      "Start : 40\n",
      "Group : 10\n",
      "End : 42\n",
      "span : (40, 42)\n",
      "Match : 10\n",
      "=======\n"
     ]
    }
   ],
   "source": [
    "import re\n",
    "q = re.compile(r'\\d+')\n",
    "\n",
    "#return an iterator\n",
    "iterator = q.finditer('12 drummers drumming, 11 pipers piping, 10 lords a leaping')\n",
    "\n",
    "#for loop through iterator\n",
    "for values in iterator:\n",
    "    print(\"Start :\", values.start())\n",
    "    print(\"Group :\", values.group())\n",
    "    print(\"End :\", values.end())\n",
    "    print(\"span :\", values.span())\n",
    "    print(\"Match :\",values[0])\n",
    "    print(\"=======\")"
   ]
  },
  {
   "cell_type": "markdown",
   "metadata": {},
   "source": [
    "# Module level functions"
   ]
  },
  {
   "cell_type": "code",
   "execution_count": 93,
   "metadata": {},
   "outputs": [
    {
     "name": "stdout",
     "output_type": "stream",
     "text": [
      "None\n"
     ]
    }
   ],
   "source": [
    "# direct call (no match) \n",
    "print(re.match(r'From\\s+', 'Fromage amk'))"
   ]
  },
  {
   "cell_type": "code",
   "execution_count": 100,
   "metadata": {},
   "outputs": [
    {
     "name": "stdout",
     "output_type": "stream",
     "text": [
      "FROM \n"
     ]
    }
   ],
   "source": [
    "# Direct call (Match)\n",
    "print(re.match(r'FROM\\s+','FROM new')[0])"
   ]
  },
  {
   "cell_type": "code",
   "execution_count": 102,
   "metadata": {},
   "outputs": [
    {
     "data": {
      "text/plain": [
       "'FROM '"
      ]
     },
     "execution_count": 102,
     "metadata": {},
     "output_type": "execute_result"
    }
   ],
   "source": [
    "# ignorecase\n",
    "import re\n",
    "p = re.compile(r'From\\s+', re.IGNORECASE)\n",
    "p.match('FROM new')[0]"
   ]
  },
  {
   "cell_type": "code",
   "execution_count": 109,
   "metadata": {},
   "outputs": [
    {
     "data": {
      "text/plain": [
       "'\\nnew'"
      ]
     },
     "execution_count": 109,
     "metadata": {},
     "output_type": "execute_result"
    }
   ],
   "source": [
    "# DotALl\n",
    "import re\n",
    "q = re.compile(r'.*', re.DOTALL)\n",
    "q.match('\\nnew')[0]"
   ]
  },
  {
   "cell_type": "code",
   "execution_count": 110,
   "metadata": {},
   "outputs": [
    {
     "data": {
      "text/plain": [
       "''"
      ]
     },
     "execution_count": 110,
     "metadata": {},
     "output_type": "execute_result"
    }
   ],
   "source": [
    "# Without dotall\n",
    "r = re.compile(r'.*')\n",
    "r.match('\\nnew')[0]"
   ]
  },
  {
   "cell_type": "markdown",
   "metadata": {},
   "source": [
    "# Metacharacters"
   ]
  },
  {
   "cell_type": "code",
   "execution_count": 114,
   "metadata": {},
   "outputs": [
    {
     "name": "stdout",
     "output_type": "stream",
     "text": [
      "Crow\n",
      "Servo\n",
      "None\n"
     ]
    }
   ],
   "source": [
    "# | or 'OR' metacharacter\n",
    "import re\n",
    "a = re.compile('Crow|Servo')\n",
    "print(a.match('Crow works')[0])\n",
    "print(a.match('Servo works')[0])\n",
    "print(a.match('servo does not work'))"
   ]
  },
  {
   "cell_type": "code",
   "execution_count": 118,
   "metadata": {},
   "outputs": [
    {
     "name": "stdout",
     "output_type": "stream",
     "text": [
      "From\n",
      "None\n"
     ]
    }
   ],
   "source": [
    "# ^ or 'Beginning of lines' metacharacter\n",
    "import re\n",
    "b = re.compile(r'^From')\n",
    "# match \n",
    "print(b.search('From here to Eternity')[0])\n",
    "# no match\n",
    "print(b.search('Reciting From memory'))"
   ]
  },
  {
   "cell_type": "code",
   "execution_count": 123,
   "metadata": {},
   "outputs": [
    {
     "name": "stdout",
     "output_type": "stream",
     "text": [
      "}\n",
      "None\n",
      "}\n"
     ]
    }
   ],
   "source": [
    "# $ or 'End of line' metacharacter\n",
    "import re\n",
    "c = re.compile(r'}$')\n",
    "# match\n",
    "print(c.search('{block}')[0])\n",
    "# no match\n",
    "print(c.search('{block} '))\n",
    "# match\n",
    "print(c.search('{block}\\n')[0])"
   ]
  },
  {
   "cell_type": "code",
   "execution_count": 134,
   "metadata": {},
   "outputs": [
    {
     "name": "stdout",
     "output_type": "stream",
     "text": [
      "class\n",
      "None\n",
      "None\n",
      "['class', 'class']\n"
     ]
    }
   ],
   "source": [
    "# \\b or 'Word boundary' metacharacter\n",
    "import re\n",
    "d = re.compile(r'\\bclass\\b') #raw string\n",
    "# match\n",
    "print(d.search('no class at all')[0])\n",
    "# no match\n",
    "print(d.search('The declassified algorithm'))\n",
    "# no match\n",
    "print(d.search('one subclass is'))\n",
    "# multiple match\n",
    "print(d.findall('class is first class'))"
   ]
  },
  {
   "cell_type": "markdown",
   "metadata": {},
   "source": [
    "# grouping"
   ]
  },
  {
   "cell_type": "code",
   "execution_count": 135,
   "metadata": {},
   "outputs": [
    {
     "name": "stdout",
     "output_type": "stream",
     "text": [
      "(0, 12)\n"
     ]
    }
   ],
   "source": [
    "import re\n",
    "p = re.compile(r'(ab)*')\n",
    "print(p.match('abababababab').span())"
   ]
  },
  {
   "cell_type": "code",
   "execution_count": 138,
   "metadata": {},
   "outputs": [
    {
     "name": "stdout",
     "output_type": "stream",
     "text": [
      "ab\n",
      "ab\n"
     ]
    }
   ],
   "source": [
    "import re\n",
    "q = re.compile('(a)b')\n",
    "m = q.match('ab')\n",
    "print(m.group())\n",
    "print(m.group(0))"
   ]
  },
  {
   "cell_type": "code",
   "execution_count": null,
   "metadata": {},
   "outputs": [],
   "source": []
  }
 ],
 "metadata": {
  "kernelspec": {
   "display_name": "Python 3",
   "language": "python",
   "name": "python3"
  },
  "language_info": {
   "codemirror_mode": {
    "name": "ipython",
    "version": 3
   },
   "file_extension": ".py",
   "mimetype": "text/x-python",
   "name": "python",
   "nbconvert_exporter": "python",
   "pygments_lexer": "ipython3",
   "version": "3.6.5"
  }
 },
 "nbformat": 4,
 "nbformat_minor": 2
}
