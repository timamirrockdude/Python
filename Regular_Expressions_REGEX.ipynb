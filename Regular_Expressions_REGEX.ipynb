{
 "cells": [
  {
   "cell_type": "markdown",
   "metadata": {},
   "source": [
    "# Example 1 (Without ignorecase)"
   ]
  },
  {
   "cell_type": "code",
   "execution_count": 37,
   "metadata": {},
   "outputs": [],
   "source": [
    "#importing regular expression module\n",
    "import re"
   ]
  },
  {
   "cell_type": "code",
   "execution_count": 38,
   "metadata": {},
   "outputs": [],
   "source": [
    "#creating a regular expression\n",
    "r = re.compile('a/{1,3}b')"
   ]
  },
  {
   "cell_type": "code",
   "execution_count": 39,
   "metadata": {},
   "outputs": [
    {
     "name": "stdout",
     "output_type": "stream",
     "text": [
      "None\n"
     ]
    }
   ],
   "source": [
    "# no - match\n",
    "print(r.search('a////b'))"
   ]
  },
  {
   "cell_type": "code",
   "execution_count": 40,
   "metadata": {},
   "outputs": [
    {
     "name": "stdout",
     "output_type": "stream",
     "text": [
      "None\n"
     ]
    }
   ],
   "source": [
    "# no - match\n",
    "print(r.search('ab'))"
   ]
  },
  {
   "cell_type": "code",
   "execution_count": 36,
   "metadata": {},
   "outputs": [
    {
     "name": "stdout",
     "output_type": "stream",
     "text": [
      "a//b\n"
     ]
    }
   ],
   "source": [
    "# Match found!\n",
    "print(r.search('a//b')[0])"
   ]
  },
  {
   "cell_type": "markdown",
   "metadata": {},
   "source": [
    "# Example 2 (With ignorecase)"
   ]
  },
  {
   "cell_type": "code",
   "execution_count": 50,
   "metadata": {},
   "outputs": [],
   "source": [
    "#import regular expression module\n",
    "import re\n",
    "\n",
    "#create regular expression\n",
    "s = re.compile('a/{1,3}b', re.IGNORECASE)"
   ]
  },
  {
   "cell_type": "code",
   "execution_count": 51,
   "metadata": {},
   "outputs": [
    {
     "name": "stdout",
     "output_type": "stream",
     "text": [
      "A//b\n"
     ]
    }
   ],
   "source": [
    "# match -1\n",
    "print(s.search('A//b')[0])"
   ]
  },
  {
   "cell_type": "code",
   "execution_count": 52,
   "metadata": {},
   "outputs": [
    {
     "name": "stdout",
     "output_type": "stream",
     "text": [
      "a///B\n"
     ]
    }
   ],
   "source": [
    "# match -2\n",
    "print(s.search('a///B')[0])"
   ]
  },
  {
   "cell_type": "code",
   "execution_count": 53,
   "metadata": {},
   "outputs": [
    {
     "name": "stdout",
     "output_type": "stream",
     "text": [
      "None\n"
     ]
    }
   ],
   "source": [
    "# no match\n",
    "print(s.search('ab'))"
   ]
  },
  {
   "cell_type": "markdown",
   "metadata": {},
   "source": [
    "# Example 3 (Match function)"
   ]
  },
  {
   "cell_type": "code",
   "execution_count": 57,
   "metadata": {},
   "outputs": [],
   "source": [
    "#import regular expression module\n",
    "import re\n",
    "\n",
    "#create regular expression\n",
    "t = re.compile('[a-z]+')"
   ]
  },
  {
   "cell_type": "code",
   "execution_count": 70,
   "metadata": {},
   "outputs": [
    {
     "name": "stdout",
     "output_type": "stream",
     "text": [
      "Group : abc\n",
      "start : 0\n",
      "End : 3\n",
      "Span : (0, 3)\n"
     ]
    }
   ],
   "source": [
    "#This match function check only the beginning of the string \n",
    "#for regular expression matching\n",
    "\n",
    "# match 1\n",
    "print(\"Group :\", t.match('abc').group())\n",
    "print(\"start :\", t.match('abc').start())\n",
    "print(\"End :\", t.match('abc').end())\n",
    "print(\"Span :\", t.match('abc').span())"
   ]
  },
  {
   "cell_type": "code",
   "execution_count": 62,
   "metadata": {},
   "outputs": [
    {
     "name": "stdout",
     "output_type": "stream",
     "text": [
      "brn\n"
     ]
    }
   ],
   "source": [
    "# match 2\n",
    "print(t.match('brn')[0])"
   ]
  },
  {
   "cell_type": "code",
   "execution_count": 63,
   "metadata": {},
   "outputs": [
    {
     "name": "stdout",
     "output_type": "stream",
     "text": [
      "None\n"
     ]
    }
   ],
   "source": [
    "# No match 1\n",
    "print(t.match('1abc'))"
   ]
  },
  {
   "cell_type": "code",
   "execution_count": 64,
   "metadata": {},
   "outputs": [
    {
     "name": "stdout",
     "output_type": "stream",
     "text": [
      "None\n"
     ]
    }
   ],
   "source": [
    "# no match 2\n",
    "print(t.match(\" \"))"
   ]
  },
  {
   "cell_type": "markdown",
   "metadata": {},
   "source": [
    "# Example 4 (Search function)"
   ]
  },
  {
   "cell_type": "code",
   "execution_count": 75,
   "metadata": {},
   "outputs": [
    {
     "name": "stdout",
     "output_type": "stream",
     "text": [
      "message\n",
      "None\n"
     ]
    }
   ],
   "source": [
    "#import regex module\n",
    "import re\n",
    "u = re.compile(\"message\")\n",
    "\n",
    "#Search function searches all the substrings of the main base string\n",
    "\n",
    "#match 1\n",
    "print(u.search(' ::: message')[0])\n",
    "\n",
    "#no match\n",
    "print(u.search('mess mesge'))"
   ]
  },
  {
   "cell_type": "markdown",
   "metadata": {},
   "source": [
    "# Example 5 (Findall function)"
   ]
  },
  {
   "cell_type": "code",
   "execution_count": 78,
   "metadata": {},
   "outputs": [
    {
     "data": {
      "text/plain": [
       "['12', '11', '10']"
      ]
     },
     "execution_count": 78,
     "metadata": {},
     "output_type": "execute_result"
    }
   ],
   "source": [
    "import re\n",
    "p = re.compile(r'\\d+')\n",
    "\n",
    "#return a list of all findings\n",
    "p.findall('12 drummers drumming, 11 pipers piping, 10 lords a leaping')"
   ]
  },
  {
   "cell_type": "markdown",
   "metadata": {},
   "source": [
    "# Example 6 (Finditer function)"
   ]
  },
  {
   "cell_type": "code",
   "execution_count": 89,
   "metadata": {},
   "outputs": [
    {
     "name": "stdout",
     "output_type": "stream",
     "text": [
      "Start : 0\n",
      "Group : 12\n",
      "End : 2\n",
      "span : (0, 2)\n",
      "Match : 12\n",
      "=======\n",
      "Start : 22\n",
      "Group : 11\n",
      "End : 24\n",
      "span : (22, 24)\n",
      "Match : 11\n",
      "=======\n",
      "Start : 40\n",
      "Group : 10\n",
      "End : 42\n",
      "span : (40, 42)\n",
      "Match : 10\n",
      "=======\n"
     ]
    }
   ],
   "source": [
    "import re\n",
    "q = re.compile(r'\\d+')\n",
    "\n",
    "#return an iterator\n",
    "iterator = q.finditer('12 drummers drumming, 11 pipers piping, 10 lords a leaping')\n",
    "\n",
    "#for loop through iterator\n",
    "for values in iterator:\n",
    "    print(\"Start :\", values.start())\n",
    "    print(\"Group :\", values.group())\n",
    "    print(\"End :\", values.end())\n",
    "    print(\"span :\", values.span())\n",
    "    print(\"Match :\",values[0])\n",
    "    print(\"=======\")"
   ]
  },
  {
   "cell_type": "markdown",
   "metadata": {},
   "source": [
    "# Module level functions"
   ]
  },
  {
   "cell_type": "markdown",
   "metadata": {},
   "source": [
    "## Example 7"
   ]
  },
  {
   "cell_type": "code",
   "execution_count": 93,
   "metadata": {},
   "outputs": [
    {
     "name": "stdout",
     "output_type": "stream",
     "text": [
      "None\n"
     ]
    }
   ],
   "source": [
    "# direct call (no match) \n",
    "print(re.match(r'From\\s+', 'Fromage amk'))"
   ]
  },
  {
   "cell_type": "markdown",
   "metadata": {},
   "source": [
    "## Example 8"
   ]
  },
  {
   "cell_type": "code",
   "execution_count": 144,
   "metadata": {},
   "outputs": [
    {
     "name": "stdout",
     "output_type": "stream",
     "text": [
      "FROM \n"
     ]
    }
   ],
   "source": [
    "# Direct call (Match)\n",
    "print(re.match(r'FROM\\s+','FROM new')[0])"
   ]
  },
  {
   "cell_type": "markdown",
   "metadata": {},
   "source": [
    "## Example 9 (IgnoreCase)"
   ]
  },
  {
   "cell_type": "code",
   "execution_count": 145,
   "metadata": {},
   "outputs": [
    {
     "data": {
      "text/plain": [
       "'FROM '"
      ]
     },
     "execution_count": 145,
     "metadata": {},
     "output_type": "execute_result"
    }
   ],
   "source": [
    "# ignorecase\n",
    "import re\n",
    "p = re.compile(r'From\\s+', re.IGNORECASE)\n",
    "p.match('FROM new')[0]"
   ]
  },
  {
   "cell_type": "markdown",
   "metadata": {},
   "source": [
    "## Example 10 (with DotAll)"
   ]
  },
  {
   "cell_type": "code",
   "execution_count": 149,
   "metadata": {},
   "outputs": [
    {
     "data": {
      "text/plain": [
       "'\\nnew'"
      ]
     },
     "execution_count": 149,
     "metadata": {},
     "output_type": "execute_result"
    }
   ],
   "source": [
    "# DotALl\n",
    "# It makes '.' special character match any character including a newline \\n\n",
    "import re\n",
    "q = re.compile(r'.*', re.DOTALL)\n",
    "q.match('\\nnew')[0]"
   ]
  },
  {
   "cell_type": "markdown",
   "metadata": {},
   "source": [
    "## Example 11 (without DotAll)"
   ]
  },
  {
   "cell_type": "code",
   "execution_count": 150,
   "metadata": {},
   "outputs": [
    {
     "data": {
      "text/plain": [
       "''"
      ]
     },
     "execution_count": 150,
     "metadata": {},
     "output_type": "execute_result"
    }
   ],
   "source": [
    "# Without dotall\n",
    "r = re.compile(r'.*')\n",
    "r.match('\\nnew')[0]"
   ]
  },
  {
   "cell_type": "markdown",
   "metadata": {},
   "source": [
    "# Metacharacters"
   ]
  },
  {
   "cell_type": "markdown",
   "metadata": {},
   "source": [
    "## Example 12 (OR metacharacter)"
   ]
  },
  {
   "cell_type": "code",
   "execution_count": 151,
   "metadata": {},
   "outputs": [
    {
     "name": "stdout",
     "output_type": "stream",
     "text": [
      "Crow\n",
      "Servo\n",
      "None\n"
     ]
    }
   ],
   "source": [
    "# | or 'OR' metacharacter\n",
    "# Case sensitive\n",
    "import re\n",
    "a = re.compile('Crow|Servo')\n",
    "print(a.match('Crow works')[0])\n",
    "print(a.match('Servo works')[0])\n",
    "print(a.match('servo does not work'))"
   ]
  },
  {
   "cell_type": "markdown",
   "metadata": {},
   "source": [
    "## Example 13 (^ metacharacter)"
   ]
  },
  {
   "cell_type": "code",
   "execution_count": 153,
   "metadata": {},
   "outputs": [
    {
     "name": "stdout",
     "output_type": "stream",
     "text": [
      "From\n",
      "None\n"
     ]
    }
   ],
   "source": [
    "# ^ or 'Beginning of lines' metacharacter\n",
    "import re\n",
    "b = re.compile(r'^From')\n",
    "# match \n",
    "print(b.search('From here to Eternity')[0])\n",
    "# no match\n",
    "print(b.search('Reciting From memory'))"
   ]
  },
  {
   "cell_type": "markdown",
   "metadata": {},
   "source": [
    "## Example 14 ($ metacharacter)"
   ]
  },
  {
   "cell_type": "code",
   "execution_count": 123,
   "metadata": {},
   "outputs": [
    {
     "name": "stdout",
     "output_type": "stream",
     "text": [
      "}\n",
      "None\n",
      "}\n"
     ]
    }
   ],
   "source": [
    "# $ or 'End of line' metacharacter\n",
    "# Includes \"\\n\"\n",
    "import re\n",
    "c = re.compile(r'}$')\n",
    "# match\n",
    "print(c.search('{block}')[0])\n",
    "# no match\n",
    "print(c.search('{block} '))\n",
    "# match\n",
    "print(c.search('{block}\\n')[0])"
   ]
  },
  {
   "cell_type": "markdown",
   "metadata": {},
   "source": [
    "## Example 15 (Word boundary metacharacter)"
   ]
  },
  {
   "cell_type": "code",
   "execution_count": 164,
   "metadata": {},
   "outputs": [
    {
     "name": "stdout",
     "output_type": "stream",
     "text": [
      "==> Without raw string regex compilation\n",
      "None\n",
      "None\n",
      "None\n",
      "[]\n",
      "<_sre.SRE_Match object; span=(0, 7), match='\\x08class\\x08'>\n",
      "\n",
      "==> With raw string regex compilation\n",
      "<_sre.SRE_Match object; span=(3, 8), match='class'>\n",
      "None\n",
      "None\n",
      "['class', 'class']\n",
      "<_sre.SRE_Match object; span=(1, 6), match='class'>\n"
     ]
    }
   ],
   "source": [
    "# \\b or 'Word boundary' metacharacter\n",
    "\n",
    "# without raw string regex\n",
    "import re\n",
    "print(\"==> Without raw string regex compilation\")\n",
    "d = re.compile('\\bclass\\b') #not a raw string\n",
    "# no match\n",
    "print(d.search('no class at all'))\n",
    "# no match\n",
    "print(d.search('The declassified algorithm'))\n",
    "# no match\n",
    "print(d.search('one subclass is'))\n",
    "# multiple match\n",
    "print(d.findall('class is first class'))\n",
    "# match\n",
    "print(d.search('\\b' + 'class' + '\\b'))\n",
    "\n",
    "#with raw string regex\n",
    "print(\"\\n==> With raw string regex compilation\")\n",
    "d = re.compile(r'\\bclass\\b') #raw string\n",
    "# match\n",
    "print(d.search('no class at all'))\n",
    "# no match\n",
    "print(d.search('The declassified algorithm'))\n",
    "# no match\n",
    "print(d.search('one subclass is'))\n",
    "# multiple match\n",
    "print(d.findall('class is first class'))\n",
    "# match\n",
    "print(d.search('\\b' + 'class' + '\\b'))"
   ]
  },
  {
   "cell_type": "markdown",
   "metadata": {},
   "source": [
    "# Grouping"
   ]
  },
  {
   "cell_type": "markdown",
   "metadata": {},
   "source": [
    "## Example 16 (simple group matching)"
   ]
  },
  {
   "cell_type": "code",
   "execution_count": 165,
   "metadata": {},
   "outputs": [
    {
     "name": "stdout",
     "output_type": "stream",
     "text": [
      "(0, 12)\n"
     ]
    }
   ],
   "source": [
    "import re\n",
    "p = re.compile(r'(ab)*')\n",
    "print(p.match('abababababab').span())"
   ]
  },
  {
   "cell_type": "markdown",
   "metadata": {},
   "source": [
    "## Example 17 (Default group argument)"
   ]
  },
  {
   "cell_type": "code",
   "execution_count": 166,
   "metadata": {},
   "outputs": [
    {
     "name": "stdout",
     "output_type": "stream",
     "text": [
      "ab\n",
      "ab\n"
     ]
    }
   ],
   "source": [
    "import re\n",
    "q = re.compile(r'(a)b')\n",
    "m = q.match('ab')\n",
    "print(m.group())\n",
    "print(m.group(0))"
   ]
  },
  {
   "cell_type": "markdown",
   "metadata": {},
   "source": [
    "## Example 18 (subgroup numbering)"
   ]
  },
  {
   "cell_type": "code",
   "execution_count": 141,
   "metadata": {},
   "outputs": [
    {
     "name": "stdout",
     "output_type": "stream",
     "text": [
      "Group 0 : abcd\n",
      "Group 1 : abc\n",
      "Group 2 : b\n",
      "Group 2, 1, 2 : ('b', 'abc', 'b')\n",
      "Groups : ('abc', 'b')\n"
     ]
    }
   ],
   "source": [
    "# subgroup numbering\n",
    "# group 0 is always present, as the re itself\n",
    "import re\n",
    "p = re.compile(r'(a(b)c)d')\n",
    "m = p.match('abcd')\n",
    "print(\"Group 0 :\",m.group(0))\n",
    "print(\"Group 1 :\",m.group(1))\n",
    "print(\"Group 2 :\",m.group(2))\n",
    "print(\"Group 2, 1, 2 :\",m.group(2,1,2))\n",
    "print(\"Groups :\",m.groups())"
   ]
  },
  {
   "cell_type": "markdown",
   "metadata": {},
   "source": [
    "## Example 19 (Backreferences)"
   ]
  },
  {
   "cell_type": "code",
   "execution_count": 168,
   "metadata": {},
   "outputs": [
    {
     "name": "stdout",
     "output_type": "stream",
     "text": [
      "the the\n"
     ]
    }
   ],
   "source": [
    "# backreferences (raw string usage mandatory)\n",
    "# allows to specify the contents of an earlier capturing group \n",
    "# at the current position\n",
    "import re\n",
    "p = re.compile(r'\\b(\\w+)\\s+\\1\\b')\n",
    "print(p.search('Paris in the the spring')[0])"
   ]
  },
  {
   "cell_type": "markdown",
   "metadata": {},
   "source": [
    "# Example 20 (Non-capturing groups)"
   ]
  },
  {
   "cell_type": "code",
   "execution_count": 181,
   "metadata": {},
   "outputs": [
    {
     "name": "stdout",
     "output_type": "stream",
     "text": [
      "('c',)\n",
      "()\n"
     ]
    }
   ],
   "source": [
    "# match (with return)\n",
    "m = re.match(\"([abc])+\", \"abc\")\n",
    "print(m.groups())\n",
    "\n",
    "# match (without return)\n",
    "# (?:...) is used when we are not interested in fetching group's contents\n",
    "m = re.match(\"(?:[abc])+\", \"abc\")\n",
    "print(m.groups())"
   ]
  },
  {
   "cell_type": "markdown",
   "metadata": {},
   "source": [
    "# Example 21 (Named groups)"
   ]
  },
  {
   "cell_type": "code",
   "execution_count": 187,
   "metadata": {},
   "outputs": [
    {
     "name": "stdout",
     "output_type": "stream",
     "text": [
      "Lots\n",
      "Lots\n"
     ]
    }
   ],
   "source": [
    "# Used when the reference to the matching groups is done using names\n",
    "# numbers can still be used to refer the matched groups\n",
    "# ?P<...>\n",
    "p = re.compile(r'(?P<word>\\b\\w+\\b)')\n",
    "m = p.search('(((( Lots of punctuation))))')\n",
    "print(m.group('word'))\n",
    "print(m.group(1))"
   ]
  },
  {
   "cell_type": "markdown",
   "metadata": {},
   "source": [
    "# Example 22 (Backreferencing using Named groups)"
   ]
  },
  {
   "cell_type": "code",
   "execution_count": 231,
   "metadata": {},
   "outputs": [
    {
     "name": "stdout",
     "output_type": "stream",
     "text": [
      "the the\n"
     ]
    }
   ],
   "source": [
    "# ?P=... ( where ... represents the name of the group)\n",
    "p = re.compile(r'\\b(?P<word>\\w+)\\s+(?P=word)\\b')\n",
    "print(p.search('Paris in the the spring').group())"
   ]
  },
  {
   "cell_type": "markdown",
   "metadata": {},
   "source": [
    "# Example 23 (Positive Lookahead assertion)"
   ]
  },
  {
   "cell_type": "code",
   "execution_count": 233,
   "metadata": {},
   "outputs": [
    {
     "name": "stdout",
     "output_type": "stream",
     "text": [
      "None\n",
      "nextfile.bat\n",
      "None\n"
     ]
    }
   ],
   "source": [
    "# This succeeds if the contained regular expression matches at the \n",
    "# current location, and fails otherwise. \n",
    "\n",
    "# Once the pattern has been tried, the matching engine doesnt advance\n",
    "# at all; rest of the pattern is tried right where the assertion started\n",
    "\n",
    "# ?=... ( where ... is the pattern)\n",
    "\n",
    "# Scenario : match only when extension of a file is \".bat\"\n",
    "q = re.compile(r'(.*)([.])(?=bat$)[^.]*$')\n",
    "print(q.match(\"filename.batch\")) #No match\n",
    "print(q.match(\"nextfile.bat\").group()) #Match\n",
    "print(q.match(\"anotherfile.bat.new\")) #No match\n"
   ]
  },
  {
   "cell_type": "markdown",
   "metadata": {},
   "source": [
    "# Example 24 (Negative lookahead assertion)"
   ]
  },
  {
   "cell_type": "code",
   "execution_count": 238,
   "metadata": {},
   "outputs": [
    {
     "name": "stdout",
     "output_type": "stream",
     "text": [
      "filename.batch\n",
      "None\n",
      "anotherfile.bat.new\n"
     ]
    }
   ],
   "source": [
    "# This succeeds if the contained expression doesnt match \n",
    "# at the current position in the string\n",
    "\n",
    "# ?!... ( where ... is the pattern)\n",
    "\n",
    "# Scenario : match only when extension is not \".bat\"\n",
    "q = re.compile(r'(.*)([.])(?!bat$)[^.]*$')\n",
    "print(q.match(\"filename.batch\").group()) #match\n",
    "print(q.match(\"nextfile.bat\")) # No Match\n",
    "print(q.match(\"anotherfile.bat.new\").group()) #Match"
   ]
  },
  {
   "cell_type": "code",
   "execution_count": null,
   "metadata": {},
   "outputs": [],
   "source": []
  }
 ],
 "metadata": {
  "kernelspec": {
   "display_name": "Python 3",
   "language": "python",
   "name": "python3"
  },
  "language_info": {
   "codemirror_mode": {
    "name": "ipython",
    "version": 3
   },
   "file_extension": ".py",
   "mimetype": "text/x-python",
   "name": "python",
   "nbconvert_exporter": "python",
   "pygments_lexer": "ipython3",
   "version": "3.6.5"
  }
 },
 "nbformat": 4,
 "nbformat_minor": 2
}
