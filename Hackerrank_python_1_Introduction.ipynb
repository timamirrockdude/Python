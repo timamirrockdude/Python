{
 "cells": [
  {
   "cell_type": "markdown",
   "metadata": {},
   "source": [
    "# Printing Hello world (Example 1)"
   ]
  },
  {
   "cell_type": "code",
   "execution_count": 1,
   "metadata": {},
   "outputs": [
    {
     "name": "stdout",
     "output_type": "stream",
     "text": [
      "Hello World!\n"
     ]
    }
   ],
   "source": [
    "print(\"Hello World!\")"
   ]
  },
  {
   "cell_type": "markdown",
   "metadata": {},
   "source": [
    "# If-Else (Example 2)"
   ]
  },
  {
   "cell_type": "code",
   "execution_count": 4,
   "metadata": {},
   "outputs": [
    {
     "name": "stdout",
     "output_type": "stream",
     "text": [
      "Weird\n",
      "Not Weird\n",
      "Weird\n",
      "Not Weird\n"
     ]
    }
   ],
   "source": [
    "#Sample input sets\n",
    "a=7  #odd  -> Weird\n",
    "b=4  #even and in range of 2-5  -> Not Weird\n",
    "c=12 #even and in range of 6-20  -> Weird\n",
    "d=24 #even and greater than 20  -> Not Weird\n",
    "\n",
    "#if else based function\n",
    "def check(N):\n",
    "    if(N%2==1):\n",
    "        print(\"Weird\")\n",
    "    if(N%2==0 and (N>=2 and N<=5)):\n",
    "        print(\"Not Weird\")\n",
    "    if(N%2==0 and (N>=6 and N<=20)):\n",
    "        print(\"Weird\")\n",
    "    if(N%2==0 and (N>20)):\n",
    "        print(\"Not Weird\")\n",
    "\n",
    "#calling the function\n",
    "check(a)\n",
    "check(b)\n",
    "check(c)\n",
    "check(d)"
   ]
  },
  {
   "cell_type": "markdown",
   "metadata": {},
   "source": [
    "# Arithmetic Operators (Example 3)"
   ]
  },
  {
   "cell_type": "code",
   "execution_count": 1,
   "metadata": {},
   "outputs": [
    {
     "name": "stdout",
     "output_type": "stream",
     "text": [
      "Sum : 15\n",
      "Difference : 5\n",
      "Product : 50\n",
      "Integer Division : 2\n",
      "Float Division : 2.0\n"
     ]
    }
   ],
   "source": [
    "#Sample input set\n",
    "a=10\n",
    "b=5\n",
    "\n",
    "#processing function\n",
    "def perform_operations(x,y):\n",
    "    print(\"Sum : {}\".format(x+y))\n",
    "    print(\"Difference : {}\".format(x-y))\n",
    "    print(\"Product : {}\".format(x*y))\n",
    "    print(\"Integer Division : {}\".format(x//y))\n",
    "    print(\"Float Division : {}\".format(x/y))\n",
    "    \n",
    "#calling the function\n",
    "perform_operations(a,b)"
   ]
  },
  {
   "cell_type": "markdown",
   "metadata": {},
   "source": [
    "# Loops (Example 4) -> FOR"
   ]
  },
  {
   "cell_type": "code",
   "execution_count": 4,
   "metadata": {},
   "outputs": [
    {
     "name": "stdout",
     "output_type": "stream",
     "text": [
      "0\n",
      "1\n",
      "4\n",
      "9\n",
      "16\n"
     ]
    }
   ],
   "source": [
    "#sample input\n",
    "n=5\n",
    "\n",
    "#printing squares from 0 to n\n",
    "def print_square(x):\n",
    "    for i in range(0,x):\n",
    "        print(i*i)\n",
    "\n",
    "#calling function\n",
    "print_square(n)"
   ]
  },
  {
   "cell_type": "markdown",
   "metadata": {},
   "source": [
    "# Loops (Example 5) -> While"
   ]
  },
  {
   "cell_type": "code",
   "execution_count": 11,
   "metadata": {},
   "outputs": [
    {
     "name": "stdout",
     "output_type": "stream",
     "text": [
      "0\n",
      "1\n",
      "4\n",
      "9\n",
      "16\n"
     ]
    }
   ],
   "source": [
    "#sample input\n",
    "n=5\n",
    "\n",
    "#printing squares from 0 to n\n",
    "def print_square(x):\n",
    "    i=0\n",
    "    while i<x:\n",
    "        print(i*i)\n",
    "        i+=1\n",
    "\n",
    "#calling function\n",
    "print_square(n)"
   ]
  },
  {
   "cell_type": "markdown",
   "metadata": {},
   "source": [
    "# Calculating Leap Year (Example 6)"
   ]
  },
  {
   "cell_type": "code",
   "execution_count": 14,
   "metadata": {},
   "outputs": [
    {
     "name": "stdout",
     "output_type": "stream",
     "text": [
      "2100 False\n",
      "1992 True\n",
      "2000 True\n",
      "1200 True\n",
      "1800 False\n",
      "2400 True\n",
      "1990 False\n"
     ]
    }
   ],
   "source": [
    "#sample list of years\n",
    "years = [2100,1992,2000,1200,1800,2400,1990]\n",
    "\n",
    "#Function to calculate leap year\n",
    "def find_leap(list_of_years):\n",
    "    for val in list_of_years:\n",
    "        leap = False\n",
    "        if (val%4 == 0):\n",
    "            leap = True\n",
    "            if (val%100 == 0):\n",
    "                leap = False\n",
    "                if (val%400 == 0):\n",
    "                    leap = True\n",
    "        print(val,leap)\n",
    "        \n",
    "#Calling the function\n",
    "find_leap(years)"
   ]
  },
  {
   "cell_type": "markdown",
   "metadata": {},
   "source": [
    "# Print function (Example 7)"
   ]
  },
  {
   "cell_type": "code",
   "execution_count": 19,
   "metadata": {},
   "outputs": [
    {
     "name": "stdout",
     "output_type": "stream",
     "text": [
      "12345678910\n",
      "Other method : 12345678910\n"
     ]
    }
   ],
   "source": [
    "#sample input list\n",
    "n=10\n",
    "\n",
    "#printing values from 1 to 10 without using string method\n",
    "print(*range(1,n+1),sep=\"\")\n",
    "\n",
    "#other method using str methods\n",
    "string=''\n",
    "for i in range(1,n+1):\n",
    "    string+=str(i)\n",
    "print(\"Other method : {}\".format(string))"
   ]
  },
  {
   "cell_type": "code",
   "execution_count": null,
   "metadata": {},
   "outputs": [],
   "source": []
  }
 ],
 "metadata": {
  "kernelspec": {
   "display_name": "Python 3",
   "language": "python",
   "name": "python3"
  },
  "language_info": {
   "codemirror_mode": {
    "name": "ipython",
    "version": 3
   },
   "file_extension": ".py",
   "mimetype": "text/x-python",
   "name": "python",
   "nbconvert_exporter": "python",
   "pygments_lexer": "ipython3",
   "version": "3.6.5"
  }
 },
 "nbformat": 4,
 "nbformat_minor": 2
}
