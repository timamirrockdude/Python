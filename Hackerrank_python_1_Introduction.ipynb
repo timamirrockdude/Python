{
 "cells": [
  {
   "cell_type": "markdown",
   "metadata": {},
   "source": [
    "# Printing Hello world (Example 1)"
   ]
  },
  {
   "cell_type": "code",
   "execution_count": 1,
   "metadata": {},
   "outputs": [
    {
     "name": "stdout",
     "output_type": "stream",
     "text": [
      "Hello World!\n"
     ]
    }
   ],
   "source": [
    "print(\"Hello World!\")"
   ]
  },
  {
   "cell_type": "markdown",
   "metadata": {},
   "source": [
    "# If-Else (Example 2)"
   ]
  },
  {
   "cell_type": "code",
   "execution_count": 4,
   "metadata": {},
   "outputs": [
    {
     "name": "stdout",
     "output_type": "stream",
     "text": [
      "Weird\n",
      "Not Weird\n",
      "Weird\n",
      "Not Weird\n"
     ]
    }
   ],
   "source": [
    "#Sample input sets\n",
    "a=7  #odd  -> Weird\n",
    "b=4  #even and in range of 2-5  -> Not Weird\n",
    "c=12 #even and in range of 6-20  -> Weird\n",
    "d=24 #even and greater than 20  -> Not Weird\n",
    "\n",
    "#if else based function\n",
    "def check(N):\n",
    "    if(N%2==1):\n",
    "        print(\"Weird\")\n",
    "    if(N%2==0 and (N>=2 and N<=5)):\n",
    "        print(\"Not Weird\")\n",
    "    if(N%2==0 and (N>=6 and N<=20)):\n",
    "        print(\"Weird\")\n",
    "    if(N%2==0 and (N>20)):\n",
    "        print(\"Not Weird\")\n",
    "\n",
    "#calling the function\n",
    "check(a)\n",
    "check(b)\n",
    "check(c)\n",
    "check(d)"
   ]
  },
  {
   "cell_type": "markdown",
   "metadata": {},
   "source": [
    "# Arithmetic Operators (Example 3)"
   ]
  },
  {
   "cell_type": "code",
   "execution_count": 5,
   "metadata": {},
   "outputs": [
    {
     "name": "stdout",
     "output_type": "stream",
     "text": [
      "Sum : 15\n",
      "Difference : 5\n",
      "Product : 50\n"
     ]
    }
   ],
   "source": [
    "#Sample input set\n",
    "a=10\n",
    "b=5\n",
    "\n",
    "#processing function\n",
    "def perform_operations(x,y):\n",
    "    print(\"Sum : {}\".format(x+y))\n",
    "    print(\"Difference : {}\".format(x-y))\n",
    "    print(\"Product : {}\".format(x*y))\n",
    "    \n",
    "#calling the function\n",
    "perform_operations(a,b)"
   ]
  },
  {
   "cell_type": "code",
   "execution_count": null,
   "metadata": {},
   "outputs": [],
   "source": []
  }
 ],
 "metadata": {
  "kernelspec": {
   "display_name": "Python 3",
   "language": "python",
   "name": "python3"
  },
  "language_info": {
   "codemirror_mode": {
    "name": "ipython",
    "version": 3
   },
   "file_extension": ".py",
   "mimetype": "text/x-python",
   "name": "python",
   "nbconvert_exporter": "python",
   "pygments_lexer": "ipython3",
   "version": "3.6.5"
  }
 },
 "nbformat": 4,
 "nbformat_minor": 2
}
