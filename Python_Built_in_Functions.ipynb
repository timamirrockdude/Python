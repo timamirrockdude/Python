{
 "cells": [
  {
   "cell_type": "markdown",
   "metadata": {},
   "source": [
    "# 1. ABS() : Absolute Value"
   ]
  },
  {
   "cell_type": "code",
   "execution_count": 14,
   "metadata": {},
   "outputs": [
    {
     "name": "stdout",
     "output_type": "stream",
     "text": [
      "10.23\n",
      "23\n",
      "25.0\n"
     ]
    }
   ],
   "source": [
    "# input\n",
    "a = 10.23\n",
    "b = -23\n",
    "c = complex(25)\n",
    "\n",
    "# Absolute values\n",
    "print(abs(a)) \n",
    "print(abs(b))\n",
    "print(abs(c))  # magnitude in case of complex number"
   ]
  },
  {
   "cell_type": "markdown",
   "metadata": {},
   "source": [
    "# 2. All() : All elements in an Iterable "
   ]
  },
  {
   "cell_type": "code",
   "execution_count": 21,
   "metadata": {},
   "outputs": [
    {
     "name": "stdout",
     "output_type": "stream",
     "text": [
      "True\n",
      "True\n",
      "True\n",
      "True\n"
     ]
    }
   ],
   "source": [
    "# input\n",
    "a =  [ '1', '2', '5', '3', '2' ]\n",
    "b =  [ 'a','b','e','z','l']\n",
    "c =  [ 'a', '9' ]\n",
    "d =  []\n",
    "\n",
    "#checking validity using all funciton\n",
    "print(all(c.isdigit() for c in a))  #All elements are digits\n",
    "print(all(c.isalpha() for c in b))  # All elements are alphabets\n",
    "print(all(x.isalnum() for x in c))  # All elements are alphanumeric\n",
    "print(all(x.islower() for x in d))   ######  \"True\" in case iterable is empty######"
   ]
  },
  {
   "cell_type": "markdown",
   "metadata": {},
   "source": [
    "# 3.  Any() : Any element in an iterable"
   ]
  },
  {
   "cell_type": "code",
   "execution_count": 22,
   "metadata": {},
   "outputs": [
    {
     "name": "stdout",
     "output_type": "stream",
     "text": [
      "True\n",
      "True\n",
      "True\n",
      "False\n"
     ]
    }
   ],
   "source": [
    "# input\n",
    "a =  [ '1', '2', '5', '3', '2' ]\n",
    "b =  [ 'a','b','e','z','l']\n",
    "c =  [ 'a', '9','$' ]\n",
    "d =  []\n",
    "\n",
    "#checking validity using all funciton\n",
    "print(any(c.isdigit() for c in a))  #Any elements are digits\n",
    "print(any(c.isalpha() for c in b))  # Any elements are alphabets\n",
    "print(any(x.isalnum() for x in c))  # Any elements are alphanumeric\n",
    "print(any(x.islower() for x in d))   ######  \"False\" in case iterable is empty######"
   ]
  },
  {
   "cell_type": "markdown",
   "metadata": {},
   "source": [
    "# 4. Ascii() : Printable version of an object"
   ]
  },
  {
   "cell_type": "code",
   "execution_count": 29,
   "metadata": {},
   "outputs": [
    {
     "name": "stdout",
     "output_type": "stream",
     "text": [
      "<class 'map'>\n",
      "Printable version : <map object at 0x0000020DD7996198>\n"
     ]
    }
   ],
   "source": [
    "a= map(int,[1,2,3])\n",
    "print(type(a))\n",
    "print(\"Printable version : {}\".format(ascii(a)))"
   ]
  },
  {
   "cell_type": "markdown",
   "metadata": {},
   "source": [
    "# 5. Bin() : Integer to Binary with '0b' as prefix"
   ]
  },
  {
   "cell_type": "code",
   "execution_count": 39,
   "metadata": {},
   "outputs": [
    {
     "name": "stdout",
     "output_type": "stream",
     "text": [
      "Input : 10\n",
      "Using bin : 0b1010\n",
      "Using format to get binary without prefix : 1010\n",
      "Using f to get binary without prefix : 1010\n"
     ]
    }
   ],
   "source": [
    "#input \n",
    "a = 10\n",
    "\n",
    "print(\"Input : {}\".format(a))\n",
    "print(\"Using bin : {}\".format(bin(a)))\n",
    "print(\"Using format to get binary without prefix : {}\".format(format(a,'b'))) # important\n",
    "print(\"Using f to get binary without prefix : {}\".format(f'{a:b}'))            # important"
   ]
  },
  {
   "cell_type": "markdown",
   "metadata": {},
   "source": [
    "# 6. class Bool() : Return True or False "
   ]
  },
  {
   "cell_type": "code",
   "execution_count": 47,
   "metadata": {},
   "outputs": [
    {
     "name": "stdout",
     "output_type": "stream",
     "text": [
      "True\n",
      "True\n",
      "False\n",
      "False\n",
      "True\n"
     ]
    }
   ],
   "source": [
    "# input\n",
    "a = 10\n",
    "b = True\n",
    "c = False\n",
    "\n",
    "#Various boolean values\n",
    "print(bool(a))\n",
    "print(bool(b))\n",
    "print(bool(c))\n",
    "print(bool(0))\n",
    "print(bool(10))"
   ]
  },
  {
   "cell_type": "markdown",
   "metadata": {},
   "source": [
    "# 7. class Bytearray() : returns Mutable sequence of integers"
   ]
  },
  {
   "cell_type": "code",
   "execution_count": 62,
   "metadata": {},
   "outputs": [
    {
     "name": "stdout",
     "output_type": "stream",
     "text": [
      "bytearray a : bytearray(b'')\n",
      "bytearray b : bytearray(b'\\x00\\x00\\x00\\x00\\x00\\x00\\x00\\x00\\x00\\x00')\n"
     ]
    }
   ],
   "source": [
    "a = bytearray()\n",
    "b = bytearray(10)\n",
    "print(\"bytearray a : {}\".format(a))\n",
    "print(\"bytearray b : {}\".format(b))"
   ]
  },
  {
   "cell_type": "markdown",
   "metadata": {},
   "source": [
    "# 8. class Bytes() : returns Immutable sequence of integers"
   ]
  },
  {
   "cell_type": "code",
   "execution_count": 63,
   "metadata": {},
   "outputs": [
    {
     "name": "stdout",
     "output_type": "stream",
     "text": [
      "bytes a : b''\n",
      "bytes b : b'\\x00\\x00\\x00\\x00\\x00\\x00\\x00\\x00\\x00\\x00'\n"
     ]
    }
   ],
   "source": [
    "a = bytes()\n",
    "b = bytes(10)\n",
    "print(\"bytes a : {}\".format(a))\n",
    "print(\"bytes b : {}\".format(b))"
   ]
  },
  {
   "cell_type": "markdown",
   "metadata": {},
   "source": [
    "# 9. Callable() : Returns true if Callable, else False"
   ]
  },
  {
   "cell_type": "code",
   "execution_count": 74,
   "metadata": {},
   "outputs": [
    {
     "name": "stdout",
     "output_type": "stream",
     "text": [
      "False\n",
      "True\n"
     ]
    }
   ],
   "source": [
    "a = 5\n",
    "print(callable(a))\n",
    "print(callable(print))"
   ]
  },
  {
   "cell_type": "markdown",
   "metadata": {},
   "source": [
    "# 10. Chr() : Unicode to character conversion"
   ]
  },
  {
   "cell_type": "code",
   "execution_count": 75,
   "metadata": {},
   "outputs": [
    {
     "name": "stdout",
     "output_type": "stream",
     "text": [
      "o\n",
      "a\n",
      "z\n"
     ]
    }
   ],
   "source": [
    "#sample input\n",
    "code1 = 111\n",
    "code2 = 97\n",
    "code3 = 122\n",
    "\n",
    "# chr implementation\n",
    "print(chr(code1))\n",
    "print(chr(code2))\n",
    "print(chr(code3))"
   ]
  },
  {
   "cell_type": "markdown",
   "metadata": {},
   "source": [
    "# 11. Complex() : Create a complex number from integer or string "
   ]
  },
  {
   "cell_type": "code",
   "execution_count": 76,
   "metadata": {},
   "outputs": [
    {
     "name": "stdout",
     "output_type": "stream",
     "text": [
      "(10+0j)\n",
      "(1+3j)\n"
     ]
    }
   ],
   "source": [
    "print(complex(10))\n",
    "print(complex('1+3j')) # No whitespace around the + or - sign"
   ]
  },
  {
   "cell_type": "markdown",
   "metadata": {},
   "source": [
    "# 12. Delattr() : Delete an attribute from the object"
   ]
  },
  {
   "cell_type": "code",
   "execution_count": 92,
   "metadata": {},
   "outputs": [
    {
     "name": "stdout",
     "output_type": "stream",
     "text": [
      "10\n"
     ]
    }
   ],
   "source": [
    "#base class\n",
    "class Ball:\n",
    "    def __init__(self, cost, size):\n",
    "        self.cost = cost\n",
    "        self.size = size\n",
    "\n",
    "# creating an object\n",
    "b1 = Ball(10,'Medium')\n",
    "\n",
    "#Deleting the attribute size\n",
    "delattr(b1,'size')\n",
    "\n",
    "# print(b1.size)   ---> gives an error! (Attribute deleted from object)\n",
    "print(b1.cost)"
   ]
  },
  {
   "cell_type": "markdown",
   "metadata": {},
   "source": [
    "# 13. Dict() : Create a dictionary object"
   ]
  },
  {
   "cell_type": "code",
   "execution_count": 99,
   "metadata": {},
   "outputs": [
    {
     "name": "stdout",
     "output_type": "stream",
     "text": [
      "fname amit\n",
      "lname raja\n"
     ]
    }
   ],
   "source": [
    "mydict = dict()  # Creating a dictionary\n",
    "mydict['fname'] = 'amit'\n",
    "mydict['lname'] = 'raja'\n",
    " \n",
    "for key,val in mydict.items():\n",
    "    print(key, val)"
   ]
  },
  {
   "cell_type": "markdown",
   "metadata": {},
   "source": [
    "# 14. Dir() : return the list of names in the current local scope"
   ]
  },
  {
   "cell_type": "code",
   "execution_count": 104,
   "metadata": {},
   "outputs": [
    {
     "name": "stdout",
     "output_type": "stream",
     "text": [
      "['Ball', 'In', 'Out', '_', '_10', '_100', '_102', '_103', '_50', '_51', '_53', '_54', '_55', '_65', '_8', '_9', '_98', '__', '___', '__builtin__', '__builtins__', '__doc__', '__loader__', '__name__', '__package__', '__spec__', '_dh', '_i', '_i1', '_i10', '_i100', '_i101', '_i102', '_i103', '_i104', '_i11', '_i12', '_i13', '_i14', '_i15', '_i16', '_i17', '_i18', '_i19', '_i2', '_i20', '_i21', '_i22', '_i23', '_i24', '_i25', '_i26', '_i27', '_i28', '_i29', '_i3', '_i30', '_i31', '_i32', '_i33', '_i34', '_i35', '_i36', '_i37', '_i38', '_i39', '_i4', '_i40', '_i41', '_i42', '_i43', '_i44', '_i45', '_i46', '_i47', '_i48', '_i49', '_i5', '_i50', '_i51', '_i52', '_i53', '_i54', '_i55', '_i56', '_i57', '_i58', '_i59', '_i6', '_i60', '_i61', '_i62', '_i63', '_i64', '_i65', '_i66', '_i67', '_i68', '_i69', '_i7', '_i70', '_i71', '_i72', '_i73', '_i74', '_i75', '_i76', '_i77', '_i78', '_i79', '_i8', '_i80', '_i81', '_i82', '_i83', '_i84', '_i85', '_i86', '_i87', '_i88', '_i89', '_i9', '_i90', '_i91', '_i92', '_i93', '_i94', '_i95', '_i96', '_i97', '_i98', '_i99', '_ih', '_ii', '_iii', '_oh', 'a', 'b', 'b1', 'ball', 'c', 'code', 'code1', 'code2', 'code3', 'd', 'exit', 'get_ipython', 'key', 'mydict', 'quit', 'val']\n"
     ]
    }
   ],
   "source": [
    "print(dir())  #current scope"
   ]
  },
  {
   "cell_type": "code",
   "execution_count": 105,
   "metadata": {},
   "outputs": [
    {
     "name": "stdout",
     "output_type": "stream",
     "text": [
      "['__class__', '__delattr__', '__dict__', '__dir__', '__doc__', '__eq__', '__format__', '__ge__', '__getattribute__', '__gt__', '__hash__', '__init__', '__init_subclass__', '__le__', '__lt__', '__module__', '__ne__', '__new__', '__reduce__', '__reduce_ex__', '__repr__', '__setattr__', '__sizeof__', '__str__', '__subclasshook__', '__weakref__', 'cost']\n"
     ]
    }
   ],
   "source": [
    "print(dir(b1))  #list of names in scope of object of Ball class"
   ]
  },
  {
   "cell_type": "code",
   "execution_count": null,
   "metadata": {},
   "outputs": [],
   "source": []
  }
 ],
 "metadata": {
  "kernelspec": {
   "display_name": "Python 3",
   "language": "python",
   "name": "python3"
  },
  "language_info": {
   "codemirror_mode": {
    "name": "ipython",
    "version": 3
   },
   "file_extension": ".py",
   "mimetype": "text/x-python",
   "name": "python",
   "nbconvert_exporter": "python",
   "pygments_lexer": "ipython3",
   "version": "3.6.5"
  }
 },
 "nbformat": 4,
 "nbformat_minor": 2
}
