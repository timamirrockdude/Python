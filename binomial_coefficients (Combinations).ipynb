{
 "cells": [
  {
   "cell_type": "code",
   "execution_count": 8,
   "metadata": {},
   "outputs": [
    {
     "name": "stdout",
     "output_type": "stream",
     "text": [
      "Definition of Binomial Coefficient\n",
      "Total no. of combinations of n items cast into k items\n"
     ]
    }
   ],
   "source": [
    "print(\"Definition of Binomial Coefficient\")\n",
    "print(\"Total no. of combinations of n items cast into k items\")\n",
    "\n",
    "#input set\n",
    "n=5\n",
    "k=2"
   ]
  },
  {
   "cell_type": "code",
   "execution_count": 9,
   "metadata": {},
   "outputs": [],
   "source": [
    "#binomial coefficient function (without using factorial)\n",
    "def binomialCoefficient_non_fact(n,k):\n",
    "    if(k>n-k):\n",
    "        k=n-k\n",
    "    res=1\n",
    "    for i in range(k):\n",
    "        res=res*(n-i)\n",
    "        res=int(res/(i+1))\n",
    "    return res"
   ]
  },
  {
   "cell_type": "code",
   "execution_count": 10,
   "metadata": {},
   "outputs": [],
   "source": [
    "#binomial coefficient function (With factorial)\n",
    "\n",
    "#factorial calculation function\n",
    "def factorial(n):\n",
    "    if(n<0):\n",
    "        return -1\n",
    "    elif(n==1):\n",
    "        return 1\n",
    "    else:\n",
    "        temp=n\n",
    "        while(n>1):\n",
    "            temp=temp*(n-1)\n",
    "            n=n-1\n",
    "        return temp\n",
    "\n",
    "def binomialCoefficient_fact(n,k):\n",
    "    if(n==k):\n",
    "        return 1\n",
    "    elif(n<k):\n",
    "        return -1\n",
    "    else:\n",
    "        res=1\n",
    "        res=res*factorial(n)\n",
    "        res=int(res/factorial(k))\n",
    "        res=int(res/factorial(n-k))\n",
    "        return res\n"
   ]
  },
  {
   "cell_type": "code",
   "execution_count": 11,
   "metadata": {},
   "outputs": [
    {
     "name": "stdout",
     "output_type": "stream",
     "text": [
      "Non-factorial calculation : 10\n",
      "Factorial calculation : 10\n"
     ]
    }
   ],
   "source": [
    "#calling functions\n",
    "print(\"Non-factorial calculation : {}\".format(binomialCoefficient_non_fact(n,k)))\n",
    "print(\"Factorial calculation : {}\".format(binomialCoefficient_fact(n,k)))\n"
   ]
  },
  {
   "cell_type": "code",
   "execution_count": null,
   "metadata": {},
   "outputs": [],
   "source": []
  }
 ],
 "metadata": {
  "kernelspec": {
   "display_name": "Python 3",
   "language": "python",
   "name": "python3"
  },
  "language_info": {
   "codemirror_mode": {
    "name": "ipython",
    "version": 3
   },
   "file_extension": ".py",
   "mimetype": "text/x-python",
   "name": "python",
   "nbconvert_exporter": "python",
   "pygments_lexer": "ipython3",
   "version": "3.6.5"
  }
 },
 "nbformat": 4,
 "nbformat_minor": 2
}
