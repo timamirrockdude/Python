{
 "cells": [
  {
   "cell_type": "markdown",
   "metadata": {},
   "source": [
    " # SWAP CASE (Example 14)"
   ]
  },
  {
   "cell_type": "code",
   "execution_count": 39,
   "metadata": {},
   "outputs": [
    {
     "name": "stdout",
     "output_type": "stream",
     "text": [
      "Input : HackerRank.com presents \"Pythonist 2\".\n",
      "Output : hACKERrANK.COM PRESENTS \"pYTHONIST 2\".\n"
     ]
    }
   ],
   "source": [
    "# sample input string (chr and ord built in functions used)\n",
    "str = 'HackerRank.com presents \"Pythonist 2\".'\n",
    "print(\"Input : {}\".format(str))\n",
    "\n",
    "# Function to swap case\n",
    "def swap_case(s):\n",
    "    string =''\n",
    "    for i in range(len(s)):\n",
    "        if(ord(s[i]) >= 97 and ord(s[i]) <= 122):\n",
    "            string += chr(ord(s[i])-32)              #Using ascii values\n",
    "        elif(ord(s[i]) >= 65 and ord(s[i]) <= 90):\n",
    "            string += chr(ord(s[i])+32)               #ord() and chr() functions used\n",
    "        else:\n",
    "            string += s[i]\n",
    "    return string\n",
    "\n",
    "print(\"Output : {}\".format(swap_case(str)))\n"
   ]
  },
  {
   "cell_type": "markdown",
   "metadata": {},
   "source": [
    "# String Split and Join (Example 15)"
   ]
  },
  {
   "cell_type": "code",
   "execution_count": 40,
   "metadata": {},
   "outputs": [
    {
     "name": "stdout",
     "output_type": "stream",
     "text": [
      "This-is-an-input-string-for-testing-purpose\n"
     ]
    }
   ],
   "source": [
    "# sample input string\n",
    "s = 'This is an input string for testing purpose'\n",
    "\n",
    "# function to split the string and return a hyphen joined string\n",
    "split = s.split(\" \")  #splitting on the basis of \" \" <space> delimiter\n",
    "joined = \"-\".join(split) #Joining the iterable using \"-\" <hyphen>\n",
    "print(joined)"
   ]
  },
  {
   "cell_type": "markdown",
   "metadata": {},
   "source": [
    "# Mutation of string (Example 16)"
   ]
  },
  {
   "cell_type": "code",
   "execution_count": 5,
   "metadata": {},
   "outputs": [
    {
     "name": "stdout",
     "output_type": "stream",
     "text": [
      "old string : abracadabra\n",
      "New string : abraKadabra\n"
     ]
    }
   ],
   "source": [
    "# sample input string\n",
    "s = 'abracadabra'\n",
    "\n",
    "# function to mutate the string (Insert a character at a given position)\n",
    "def mutate(string, position, character):\n",
    "    return string[:position]+character+string[position+1:]\n",
    "\n",
    "print(\"old string : {}\".format(s))\n",
    "print(\"New string : {}\".format(mutate(s,4,'K')))"
   ]
  },
  {
   "cell_type": "markdown",
   "metadata": {},
   "source": [
    "# Find a string (Example 17)"
   ]
  },
  {
   "cell_type": "code",
   "execution_count": 7,
   "metadata": {},
   "outputs": [
    {
     "name": "stdout",
     "output_type": "stream",
     "text": [
      "String CDC occurs 2 times in the string ABCDCDC\n"
     ]
    }
   ],
   "source": [
    "# sample input strings\n",
    "string = 'ABCDCDC'\n",
    "substring = 'CDC'\n",
    "\n",
    "# function to print the number of times, the substring occurs in major string\n",
    "def count_substring(s, sub):\n",
    "    count =0\n",
    "    for i in range(len(s)):\n",
    "        if(s[i:i+len(sub)]==sub):\n",
    "            count+=1\n",
    "    return count\n",
    "\n",
    "# calling the function\n",
    "print(\"String {} occurs {} times in the string {}\".format(substring,count_substring(string, substring),string))"
   ]
  },
  {
   "cell_type": "markdown",
   "metadata": {},
   "source": [
    "# String validators (Example 18)"
   ]
  },
  {
   "cell_type": "code",
   "execution_count": 16,
   "metadata": {},
   "outputs": [
    {
     "name": "stdout",
     "output_type": "stream",
     "text": [
      "First test\n",
      "True\n",
      "True\n",
      "True\n",
      "True\n",
      "True\n",
      "\n",
      "\n",
      "second test\n",
      "True\n",
      "True\n",
      "False\n",
      "False\n",
      "True\n"
     ]
    }
   ],
   "source": [
    "#sample inputs (Built in module \"any\" used for implementation)\n",
    "string1 = 'yD1@'\n",
    "string2 = 'AAAAAA'\n",
    "\n",
    "# function to validate\n",
    "def validate(s):\n",
    "    print(any(character.isalnum() for character in s))  # checking alphanumerics\n",
    "    print(any(character.isalpha() for character in s))  # checking alphabets\n",
    "    print(any(character.isdigit() for character in s))  # checking digits\n",
    "    print(any(character.islower() for character in s))  # checking lower case letters\n",
    "    print(any(character.isupper() for character in s))  # checking upper case letters\n",
    "  \n",
    "#calling function\n",
    "print(\"First test\")\n",
    "validate(string1)\n",
    "\n",
    "print(\"\\n\")\n",
    "\n",
    "print(\"second test\")\n",
    "validate(string2)"
   ]
  },
  {
   "cell_type": "markdown",
   "metadata": {},
   "source": [
    "# Text allignment: Printing Hackerrank logo dynamically (Example 19)"
   ]
  },
  {
   "cell_type": "code",
   "execution_count": 43,
   "metadata": {},
   "outputs": [
    {
     "name": "stdout",
     "output_type": "stream",
     "text": [
      "    H    \n",
      "   HHH   \n",
      "  HHHHH  \n",
      " HHHHHHH \n",
      "HHHHHHHHH\n",
      "  HHHHH               HHHHH             \n",
      "  HHHHH               HHHHH             \n",
      "  HHHHH               HHHHH             \n",
      "  HHHHH               HHHHH             \n",
      "  HHHHH               HHHHH             \n",
      "  HHHHH               HHHHH             \n",
      "  HHHHHHHHHHHHHHHHHHHHHHHHH   \n",
      "  HHHHHHHHHHHHHHHHHHHHHHHHH   \n",
      "  HHHHHHHHHHHHHHHHHHHHHHHHH   \n",
      "  HHHHH               HHHHH             \n",
      "  HHHHH               HHHHH             \n",
      "  HHHHH               HHHHH             \n",
      "  HHHHH               HHHHH             \n",
      "  HHHHH               HHHHH             \n",
      "  HHHHH               HHHHH             \n",
      "                    HHHHHHHHH \n",
      "                     HHHHHHH  \n",
      "                      HHHHH   \n",
      "                       HHH    \n",
      "                        H     \n"
     ]
    }
   ],
   "source": [
    "# sample input      #Concepts of padding rjust,ljust, center (2 arguments, 1st width, 2nd character used for padding)\n",
    "c = 'H' #character\n",
    "thickness = 5 #Must be an odd number\n",
    "\n",
    "#function to print the logo\n",
    "def print_logo(c,thickness):\n",
    "    \n",
    "    # top cone\n",
    "    for i in range(thickness):\n",
    "        print((c*i).rjust(thickness-1)+c+(c*i).ljust(thickness-1))\n",
    "    \n",
    "    # top pillars\n",
    "    for i in range(thickness+1):\n",
    "        print((c*thickness).center(thickness*2)+(c*thickness).center(thickness*6))\n",
    "    \n",
    "    # middle belt\n",
    "    for i in range((thickness+1)//2):\n",
    "        print((c*thickness*5).center(thickness*6))\n",
    "        \n",
    "    # bottom pillars\n",
    "    for i in range(thickness+1):\n",
    "        print((c*thickness).center(thickness*2)+(c*thickness).center(thickness*6))\n",
    "        \n",
    "    # bottom cone\n",
    "    for i in range(thickness):\n",
    "        print(((c*(thickness-i-1)).rjust(thickness)+c+(c*(thickness-i-1)).ljust(thickness)).rjust(thickness*6))\n",
    "\n",
    "\n",
    "#calling the function\n",
    "print_logo(c,thickness)"
   ]
  },
  {
   "cell_type": "markdown",
   "metadata": {},
   "source": [
    "# Text Wrap (Example 20)"
   ]
  },
  {
   "cell_type": "code",
   "execution_count": 42,
   "metadata": {},
   "outputs": [
    {
     "name": "stdout",
     "output_type": "stream",
     "text": [
      "ABCDE\n",
      "FGHIJ\n",
      "KLMNO\n",
      "PQRST\n",
      "UVWXY\n",
      "Z\n"
     ]
    }
   ],
   "source": [
    "# input string and wrapping width       # Very important trick!\n",
    "string = 'ABCDEFGHIJKLMNOPQRSTUVWXYZ'\n",
    "width = 5\n",
    "\n",
    "#function to text wrap\n",
    "def text_wrap(string, width):\n",
    "    return \"\\n\".join([string[i:i+width] for i in range(0,len(string),width)]) #Loop jumper modified, Comprehensive listing \n",
    "\n",
    "#Calling text wrap\n",
    "print(text_wrap(string, width))"
   ]
  },
  {
   "cell_type": "markdown",
   "metadata": {},
   "source": [
    "# Designing floor mat (Example 21)"
   ]
  },
  {
   "cell_type": "code",
   "execution_count": 45,
   "metadata": {},
   "outputs": [
    {
     "name": "stdout",
     "output_type": "stream",
     "text": [
      "---------------.|.---------------\n",
      "------------.|..|..|.------------\n",
      "---------.|..|..|..|..|.---------\n",
      "------.|..|..|..|..|..|..|.------\n",
      "---.|..|..|..|..|..|..|..|..|.---\n",
      "-------------WELCOME-------------\n",
      "---.|..|..|..|..|..|..|..|..|.---\n",
      "------.|..|..|..|..|..|..|.------\n",
      "---------.|..|..|..|..|.---------\n",
      "------------.|..|..|.------------\n",
      "---------------.|.---------------\n"
     ]
    }
   ],
   "source": [
    "#sample inputs\n",
    "n = 11\n",
    "m = 33\n",
    "\n",
    "#function to print the design\n",
    "def create_doormat(n,m):\n",
    "    pattern = [('.|.'*(2*i + 1)).center(m, '-') for i in range(n//2)]  # base pattern (using center padding)\n",
    "    return '\\n'.join(pattern + ['WELCOME'.center(m, '-')] + pattern[::-1])  # string[::-1] used to print inverse of string\n",
    "    \n",
    "print(create_doormat(n,m))"
   ]
  },
  {
   "cell_type": "markdown",
   "metadata": {},
   "source": [
    "# Print formatting of numbers (Example 22)"
   ]
  },
  {
   "cell_type": "code",
   "execution_count": 76,
   "metadata": {},
   "outputs": [
    {
     "name": "stdout",
     "output_type": "stream",
     "text": [
      "Number limit : 10\n",
      "width : 4\n",
      "dec  Octal Hex  Bin   float\n",
      "   1    1    1    1  1.0000\n",
      "   2    2    2   10  2.0000\n",
      "   3    3    3   11  3.0000\n",
      "   4    4    4  100  4.0000\n",
      "   5    5    5  101  5.0000\n",
      "   6    6    6  110  6.0000\n",
      "   7    7    7  111  7.0000\n",
      "   8   10    8 1000  8.0000\n",
      "   9   11    9 1001  9.0000\n",
      "  10   12    A 1010  10.0000\n"
     ]
    }
   ],
   "source": [
    "# sample input\n",
    "n = 10\n",
    "print(\"Number limit : {}\".format(n))\n",
    "\n",
    "#printing the decimal, octal, hexadecimal and binary format of the number padded to the max width\n",
    "#calculating max_width\n",
    "width = len(\"{0:b}\".format(n))\n",
    "print(\"width : {}\".format(width))\n",
    "\n",
    "#printing values\n",
    "print('dec'.center(width), 'Octal'.center(width), 'Hex'.center(width),'Bin'.center(width),' float'.center(width))\n",
    "for i in range(1,n+1):\n",
    "    print(\"{0:{width}d} {0:{width}o} {0:{width}X} {0:{width}b}  {0:.4f}\".format(i,width=width))  # Very important"
   ]
  },
  {
   "cell_type": "code",
   "execution_count": null,
   "metadata": {},
   "outputs": [],
   "source": []
  }
 ],
 "metadata": {
  "kernelspec": {
   "display_name": "Python 3",
   "language": "python",
   "name": "python3"
  },
  "language_info": {
   "codemirror_mode": {
    "name": "ipython",
    "version": 3
   },
   "file_extension": ".py",
   "mimetype": "text/x-python",
   "name": "python",
   "nbconvert_exporter": "python",
   "pygments_lexer": "ipython3",
   "version": "3.6.5"
  }
 },
 "nbformat": 4,
 "nbformat_minor": 2
}
