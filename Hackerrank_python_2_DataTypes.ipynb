{
 "cells": [
  {
   "cell_type": "markdown",
   "metadata": {},
   "source": [
    "# List comprehensions (Example 8)"
   ]
  },
  {
   "cell_type": "code",
   "execution_count": 18,
   "metadata": {},
   "outputs": [
    {
     "name": "stdout",
     "output_type": "stream",
     "text": [
      "[[0, 0, 0], [0, 0, 1], [0, 1, 0], [0, 1, 2], [0, 2, 1], [0, 2, 2], [1, 0, 0], [1, 0, 2], [1, 1, 1], [1, 1, 2], [1, 2, 0], [1, 2, 1], [1, 2, 2], [2, 0, 1], [2, 0, 2], [2, 1, 0], [2, 1, 1], [2, 1, 2], [2, 2, 0], [2, 2, 1], [2, 2, 2]]\n"
     ]
    }
   ],
   "source": [
    "# sample input\n",
    "x = 2\n",
    "y = 2\n",
    "z = 2\n",
    "n = 2\n",
    "\n",
    "#printing the various combinations which meet the condition (sum != n)\n",
    "final_list = [[i,j,k] for i in range(x+1) for j in range(y+1) for k in range(z+1) if ((i+j+k)!=n)]\n",
    "print(final_list)"
   ]
  },
  {
   "cell_type": "markdown",
   "metadata": {},
   "source": [
    "# Finding Runner up Score (Example 9)"
   ]
  },
  {
   "cell_type": "code",
   "execution_count": 19,
   "metadata": {},
   "outputs": [
    {
     "name": "stdout",
     "output_type": "stream",
     "text": [
      "5\n"
     ]
    }
   ],
   "source": [
    "# sample input\n",
    "scores = [2,3,6,6,4,5]\n",
    "\n",
    "#Printing the runner up score\n",
    "set_score = list(set(scores)) #Conversion from set to list to set\n",
    "set_score.sort(reverse=True)\n",
    "print(set_score[1])"
   ]
  },
  {
   "cell_type": "markdown",
   "metadata": {},
   "source": [
    "# Nested Lists (Example 10)"
   ]
  },
  {
   "cell_type": "code",
   "execution_count": 20,
   "metadata": {},
   "outputs": [
    {
     "name": "stdout",
     "output_type": "stream",
     "text": [
      "Second lowest marks : 37.21\n",
      "Harry\n",
      "Berry\n"
     ]
    }
   ],
   "source": [
    "# Sample input\n",
    "marksheet = [['Harry', 37.21], ['Berry', 37.21], ['Tina', 37.2], ['Akriti', 41.0], ['Harsh', 39.0]] #Name, Marks\n",
    "\n",
    "#finding the names of people with second lowest marks\n",
    "second_lowest = sorted(list(set([marks for name, marks in marksheet])))[1] #Very important traversal technique\n",
    "print(\"Second lowest marks : {}\".format(second_lowest))\n",
    "\n",
    "#people with second lowest marks\n",
    "print(\"\\n\".join([name for name, marks in marksheet if marks==second_lowest])) #very important comparison technique"
   ]
  },
  {
   "cell_type": "markdown",
   "metadata": {},
   "source": [
    "# Finding percentage (Example 11)"
   ]
  },
  {
   "cell_type": "code",
   "execution_count": 21,
   "metadata": {},
   "outputs": [
    {
     "name": "stdout",
     "output_type": "stream",
     "text": [
      "average marks of Malika is 56.00\n"
     ]
    }
   ],
   "source": [
    "# sample input\n",
    "n = 3\n",
    "\n",
    "#marks with names\n",
    "'Krishna 67 68 69'\n",
    "'Arjun 70 98 63'\n",
    "'Malika 52 56 60'\n",
    "\n",
    "#query\n",
    "query = 'Malika'\n",
    "\n",
    "#dictionary created\n",
    "student_marks = {'Krishna': [67.0, 68.0, 69.0], 'Arjun': [70.0, 98.0, 63.0], 'Malika': [52.0, 56.0, 60.0]}\n",
    "\n",
    "#Printing average marks to 2 floating point decimal places\n",
    "marks = student_marks[query]\n",
    "\n",
    "print(\"average marks of {0} is {1:.2f}\".format(query, sum(marks)/len(marks))) #Very important printing technique 2 decimal places"
   ]
  },
  {
   "cell_type": "markdown",
   "metadata": {},
   "source": [
    "# Lists (Eval command) (Example 12)"
   ]
  },
  {
   "cell_type": "code",
   "execution_count": 27,
   "metadata": {},
   "outputs": [
    {
     "name": "stdout",
     "output_type": "stream",
     "text": [
      "[6, 5, 10]\n",
      "[1, 5, 9, 10]\n",
      "[9, 5, 1]\n"
     ]
    }
   ],
   "source": [
    "# sample input\n",
    "commands = ['insert 0 5','insert 1 10','insert 0 6','print','remove 6','append 9','append 1','sort','print','pop','reverse','print']\n",
    "n = 12\n",
    "\n",
    "#processing these commands\n",
    "list = []\n",
    "for i in range(n):\n",
    "    str = commands[i].split()\n",
    "    cmd = str[0]\n",
    "    args = str[1:]           # Important step\n",
    "    if cmd == 'print':\n",
    "        print(list)\n",
    "    else:\n",
    "        cmd = cmd+\"(\"+\",\".join(args)+\")\"   #command creation important\n",
    "        eval(\"list.\"+cmd)                  #EVAL command\n",
    "\n"
   ]
  },
  {
   "cell_type": "markdown",
   "metadata": {},
   "source": [
    "# Creating a tuple and calculating hash (Example 13)"
   ]
  },
  {
   "cell_type": "code",
   "execution_count": 32,
   "metadata": {},
   "outputs": [
    {
     "name": "stdout",
     "output_type": "stream",
     "text": [
      "tuple : (1, 2)\n",
      "Hash : 3713081631934410656\n"
     ]
    }
   ],
   "source": [
    "# sample input\n",
    "n = 2\n",
    "list = [1,2]\n",
    "\n",
    "#creating tuple\n",
    "tup = tuple(list)\n",
    "print(\"tuple : {}\".format(tup))\n",
    "\n",
    "#calculating hash\n",
    "h = hash(tup)\n",
    "print(\"Hash : {}\".format(h))"
   ]
  },
  {
   "cell_type": "code",
   "execution_count": null,
   "metadata": {},
   "outputs": [],
   "source": []
  }
 ],
 "metadata": {
  "kernelspec": {
   "display_name": "Python 3",
   "language": "python",
   "name": "python3"
  },
  "language_info": {
   "codemirror_mode": {
    "name": "ipython",
    "version": 3
   },
   "file_extension": ".py",
   "mimetype": "text/x-python",
   "name": "python",
   "nbconvert_exporter": "python",
   "pygments_lexer": "ipython3",
   "version": "3.6.5"
  }
 },
 "nbformat": 4,
 "nbformat_minor": 2
}
